{
  "nbformat": 4,
  "nbformat_minor": 0,
  "metadata": {
    "colab": {
      "provenance": [],
      "authorship_tag": "ABX9TyO2QCXr9mRn8N3Q52yR064B",
      "include_colab_link": true
    },
    "kernelspec": {
      "name": "python3",
      "display_name": "Python 3"
    },
    "language_info": {
      "name": "python"
    }
  },
  "cells": [
    {
      "cell_type": "markdown",
      "metadata": {
        "id": "view-in-github",
        "colab_type": "text"
      },
      "source": [
        "<a href=\"https://colab.research.google.com/github/0271310400Ben/Benjamin/blob/main/workspaces/Benjamin%20(main)Benjamin_Akouwa_Akrofi_01240821C_.ipynb\" target=\"_parent\"><img src=\"https://colab.research.google.com/assets/colab-badge.svg\" alt=\"Open In Colab\"/></a>"
      ]
    },
    {
      "cell_type": "code",
      "source": [
        "!git clone https://github.com/regentoop/principlesofprogramming.git\n"
      ],
      "metadata": {
        "colab": {
          "base_uri": "https://localhost:8080/"
        },
        "id": "FYJKeRZEBcSn",
        "outputId": "68b86794-b702-469b-cac7-c81b4dc3244d"
      },
      "execution_count": null,
      "outputs": [
        {
          "output_type": "stream",
          "name": "stdout",
          "text": [
            "Cloning into 'principlesofprogramming'...\n",
            "remote: Enumerating objects: 15, done.\u001b[K\n",
            "remote: Counting objects: 100% (15/15), done.\u001b[K\n",
            "remote: Compressing objects: 100% (13/13), done.\u001b[K\n",
            "remote: Total 15 (delta 4), reused 5 (delta 1), pack-reused 0 (from 0)\u001b[K\n",
            "Receiving objects: 100% (15/15), 4.80 KiB | 4.80 MiB/s, done.\n",
            "Resolving deltas: 100% (4/4), done.\n"
          ]
        }
      ]
    },
    {
      "cell_type": "markdown",
      "source": [
        "#Report on DIT 2025 class#\n",
        "\n",
        "*somebody's something*\n",
        "\n",
        "**Grenetrate it**"
      ],
      "metadata": {
        "id": "VWeMc-nR6Nfk"
      }
    },
    {
      "cell_type": "code",
      "source": [
        "# %% [code]\n",
        "# 1. Give a guess what you think this code is going to do before you run it.\n",
        "num = int(input(\"4: \"))   #2. What do you think this line is going to do?\n",
        "\n",
        "#ANS#\n",
        "# when i run this line by entering a number is going to give the same number and there is no error with it #\n",
        "\n",
        "print(f\"\\nTimes Table for {num}:\\n\")     #3. There is an error on this line can you find it and fix it?\n",
        "for i in range(1, 13):                 #4. Any guess as to what this strange line is supposed to do?\n",
        "    print(f\"{num} × {i} = {num * i}\")  #5. There's an error here too. Try to fix it.\n",
        "\n",
        "#ANS#\n",
        "# The is an error with the number 3 the error is the **Bracket** it has not been close and also must add the quotation mark #\n",
        "# %% [code]\n",
        "# 1. Give a guess what you think this code is going to do before you run it.\n",
        "num = int(input(\"4: \"))   #2. What do you think this line is going to do?\n",
        "\n",
        "# when i run this line by entering a number is going to give the same number and there is no error with it #\n",
        "\n",
        "print(f\"\\nTimes Table for {num}:\\n\")     #3. There is an error on this line can you find it and fix it?\n",
        "for i in range(1, 13):                 #4. Any guess as to what this strange line is supposed to do?\n",
        "    print(f\"{num} × {i} = {num * i}\")  #5. There's an error here too. Try to fix it.\n",
        "\n",
        "\n",
        "#ANS#\n",
        "# The is an error with the number 3 the error is the **Bracket** it has not been close and also must add the quotation mark #\n",
        "      # For the the range. The range is from 1 - 13 only #\n",
        "      # For the 5 one there is an error with it , one of the curly bracket after the equal to sign #\n",
        "# %% [code]"
      ],
      "metadata": {
        "colab": {
          "base_uri": "https://localhost:8080/"
        },
        "id": "-vlYiCLFQTvO",
        "outputId": "3319be3e-1fae-41e6-98b0-9f8f58d6de25"
      },
      "execution_count": null,
      "outputs": [
        {
          "metadata": {
            "tags": null
          },
          "name": "stdout",
          "output_type": "stream",
          "text": [
            "\n",
            "Times Table for 5:\n",
            "\n",
            "5 × 1 = 5\n",
            "5 × 2 = 10\n",
            "5 × 3 = 15\n",
            "5 × 4 = 20\n",
            "5 × 5 = 25\n",
            "5 × 6 = 30\n",
            "5 × 7 = 35\n",
            "5 × 8 = 40\n",
            "5 × 9 = 45\n",
            "5 × 10 = 50\n",
            "5 × 11 = 55\n",
            "5 × 12 = 60\n"
          ]
        }
      ]
    }
  ]
}